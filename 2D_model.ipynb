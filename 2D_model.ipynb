{
 "cells": [
  {
   "cell_type": "markdown",
   "metadata": {},
   "source": [
    "### 1. Import the physics, base model and simulation model into workspace"
   ]
  },
  {
   "cell_type": "code",
   "execution_count": null,
   "metadata": {
    "scrolled": true
   },
   "outputs": [],
   "source": [
    "from darts.models.darts_model import DartsModel\n",
    "from darts.models.reservoirs.struct_reservoir import StructReservoir\n",
    "from darts.models.physics.geothermal_g import Geothermal\n",
    "from darts.engines import value_vector\n",
    "import numpy as np"
   ]
  },
  {
   "cell_type": "markdown",
   "metadata": {},
   "source": [
    "### 2. Build Model class\n",
    "#### Brief Introduction of model inheritance\n",
    "* Here create the <font color='red'>'Model' </font>  class, which inherits from <font color='red'>DartsModel</font> (the base class).\n",
    "* It keeps all the functionalities of <font color='red'>DartsModel</font> and can also be extended to add more functionalities.\n",
    "* If a function is redefined in subclass, the function in base class with identical name will be overridden (just like C++)."
   ]
  },
  {
   "cell_type": "code",
   "execution_count": null,
   "metadata": {},
   "outputs": [],
   "source": [
    "class Model(DartsModel):\n",
    "    def __init__(self):\n",
    "        # call base class constructor\n",
    "        super().__init__()\n",
    "\n",
    "        self.timer.node[\"initialization\"].start()\n",
    "\n",
    "        # predefined reservoir size: 60*40*1\n",
    "        self.nx = 500\n",
    "        self.ny = 1\n",
    "        self.n_up = 1\n",
    "        self.n_bot = 1\n",
    "        self.nz = 10 + self.n_up + self.n_bot\n",
    "        self.up_bs = self.n_up * self.nx * self.ny\n",
    "        self.bot_bs= self.n_bot* self.nx * self.ny\n",
    "        self.nb = self.nx * self.ny * self.nz\n",
    "        self.kx = np.ones(self.nb)\n",
    "        self.kz = np.ones(self.nb)\n",
    "        self.ky = 1\n",
    "        self.dz = np.ones(self.nb)\n",
    "        self.depth = np.ones(self.nb)\n",
    "        dz = np.ones(self.nz) * 10\n",
    "        dz[0] = 800\n",
    "        dz[-1]= 800\n",
    "        permx = [0.01, 208, 36.9, 23.3, 162, 82, 198, 12.7, 187, 22.2, 9.2, 0.01]\n",
    "        permz = [0.01, 208, 36.9, 23.3, 162, 82, 198, 12.7, 187, 22.2, 9.2, 0.01]\n",
    "        \n",
    "\n",
    "        for z in range(self.nz):\n",
    "            self.kx[self.nx*z:self.nx*(z+1)] = permx[z]\n",
    "            self.kz[self.nx*z:self.nx*(z+1)] = permx[z] / 10\n",
    "            self.dz[self.nx*z:self.nx*(z+1)] = dz[z]\n",
    "        \n",
    "        # top of the payzone is 2500m based on the thesis\n",
    "        self.depth[:self.up_bs] = 2500 - dz[0] / 2  # depth of the overburden\n",
    "        self.depth[self.up_bs:self.up_bs+self.nx] = 2500 + dz[1] / 2 # depth of the 1st layer of the payzone\n",
    "        for z in range(2, self.nz):\n",
    "            self.depth[self.up_bs+self.nx*(z-1):self.up_bs+self.nx*(z)] = \\\n",
    "                                                self.depth[self.up_bs+self.nx*(z-2):self.up_bs+self.nx*(z-1)] + dz[z] \n",
    "            \n",
    "        self.poro = 0.2\n",
    "        \n",
    "        # Create reservoir using StructReservoir.\n",
    "        # Just pass-in the necessary parameters and a box reservoir is generated.\n",
    "        self.reservoir = StructReservoir(self.timer, nx=self.nx, ny=self.ny, nz=self.nz, dx=1, dy=100,\n",
    "                                         dz=self.dz, permx=self.kx, permy=self.ky, permz=self.kz,\n",
    "                                         poro=self.poro, depth=self.depth)\n",
    "        # Get the number of reservoir grids\n",
    "        self.nb = self.reservoir.mesh.n_res_blocks\n",
    "\n",
    "        # Create numpy arrays wrapped around mesh data (no copying)\n",
    "        self.volume = np.array(self.reservoir.mesh.volume, copy=False)\n",
    "        self.hcap = np.array(self.reservoir.mesh.heat_capacity, copy=False)\n",
    "        self.cond = np.array(self.reservoir.mesh.rock_cond, copy=False)\n",
    "\n",
    "        self.volume[0] = 1e9\n",
    "\n",
    "        # Constant definitions\n",
    "        self.cond.fill(2*86.4)\n",
    "        self.hcap.fill(4814)\n",
    "\n",
    "        # add wells\n",
    "        n_perf = self.nz\n",
    "        self.reservoir.add_well(\"I1\")\n",
    "        for n in range(n_perf):\n",
    "            self.reservoir.add_perforation(well=self.reservoir.wells[-1], i=1, j=1, k=n+1, well_index=100,\n",
    "                                           multi_segment=False, verbose=True)\n",
    "\n",
    "        self.reservoir.add_well(\"P1\")\n",
    "        for n in range(n_perf):\n",
    "            self.reservoir.add_perforation(well=self.reservoir.wells[-1], i=self.nx, j=1, k=n+1, well_index=100,\n",
    "                                           multi_segment=False, verbose=True)\n",
    "\n",
    "        # add predefined physics\n",
    "        self.physics = Geothermal(self.timer, 128, 0, 500, 100, 20000)\n",
    "\n",
    "        # time step setting\n",
    "        self.params.first_ts = 1e-4\n",
    "        self.params.mult_ts = 2\n",
    "        self.params.max_ts = 100\n",
    "\n",
    "        # Newton tolerance is relatively high because of L2-norm for residual and well segments\n",
    "        self.params.tolerance_newton = 1e-3\n",
    "        self.params.tolerance_linear = 1e-5\n",
    "        self.params.max_i_newton = 20\n",
    "        self.params.max_i_linear = 50\n",
    "\n",
    "        # default runtime\n",
    "        self.runtime = 1000\n",
    "        self.timer.node[\"initialization\"].stop()\n",
    "\n",
    "    '''Give initial pressure and temperature conditions to reservoir'''\n",
    "\n",
    "    def set_initial_conditions(self):\n",
    "        # set uniform initial condition\n",
    "        #self.physics.set_uniform_initial_conditions(self.reservoir.mesh, uniform_pressure=250, \\\n",
    "        #                                            uniform_temperature=273.15 + 90)\n",
    "        # set non-uniform initial condition\n",
    "        self.physics.set_nonuniform_initial_conditions(self.reservoir.mesh, pressure_grad=100, \\\n",
    "                                                    temperature_grad=30)\n",
    "\n",
    "    '''Give the well controls'''\n",
    "\n",
    "    def set_boundary_conditions(self):\n",
    "        for i, w in enumerate(self.reservoir.wells):\n",
    "            if i == 0:\n",
    "                # w.control = self.physics.new_bhp_water_inj(300, 308.15)\n",
    "                w.control = self.physics.new_rate_water_inj(150*24, 308.15)\n",
    "                w.constraint = self.physics.new_bhp_water_inj(450, 308.15)\n",
    "            else:\n",
    "                # w.control = self.physics.new_bhp_prod(200)\n",
    "                w.control = self.physics.new_rate_water_prod(150*24)\n",
    "                w.constraint = self.physics.new_bhp_prod(100)\n",
    "\n",
    "    def set_rate(self, rate, welln, temp=308):\n",
    "        w = self.reservoir.wells[welln]\n",
    "        if welln == 0:\n",
    "            w.control = self.physics.new_rate_water_inj(rate, temp)\n",
    "        else:\n",
    "            w.control = self.physics.new_rate_water_prod(rate)\n",
    "\n",
    "    def set_bhp(self, bhp, welln, temp=308):\n",
    "        w = self.reservoir.wells[welln]\n",
    "        if welln == 0:\n",
    "            w.control = self.physics.new_bhp_inj(bhp, temp)\n",
    "        else:\n",
    "            w.control = self.physics.new_bhp_prod(bhp)"
   ]
  },
  {
   "cell_type": "markdown",
   "metadata": {},
   "source": [
    "### 3. Create and initialize simulation model"
   ]
  },
  {
   "cell_type": "code",
   "execution_count": null,
   "metadata": {},
   "outputs": [],
   "source": [
    "# build a Model object\n",
    "m = Model()\n",
    "m.init()"
   ]
  },
  {
   "cell_type": "markdown",
   "metadata": {},
   "source": [
    "### 4. Run simulation and print statistics"
   ]
  },
  {
   "cell_type": "code",
   "execution_count": null,
   "metadata": {},
   "outputs": [],
   "source": [
    "m.run_python()\n",
    "m.print_timers()"
   ]
  },
  {
   "cell_type": "markdown",
   "metadata": {},
   "source": [
    "### 5. Data process and plot"
   ]
  },
  {
   "cell_type": "code",
   "execution_count": null,
   "metadata": {
    "scrolled": false
   },
   "outputs": [],
   "source": [
    "%matplotlib inline\n",
    "\n",
    "import pandas as pd\n",
    "# access to engine time-dependent data\n",
    "time_data = pd.DataFrame.from_dict(m.physics.engine.time_data)\n",
    "# wirte timedata to output file\n",
    "time_data.to_pickle(\"darts_time_data.pkl\")\n",
    "# write timedata to excel file\n",
    "writer = pd.ExcelWriter('time_data.xlsx')\n",
    "time_data.to_excel(writer, 'Sheet1')\n",
    "writer.save()\n",
    "\n",
    "# read data from output file\n",
    "time_data = pd.read_pickle(\"darts_time_data.pkl\")\n",
    "\n",
    "from darts.tools.plot_darts import *\n",
    "# plot production temperature\n",
    "p_w = 'P1'\n",
    "ax = plot_water_rate_darts(p_w, time_data)\n",
    "ax = plot_temp_darts(p_w, time_data)\n",
    "plt.show()"
   ]
  },
  {
   "cell_type": "code",
   "execution_count": null,
   "metadata": {
    "scrolled": false
   },
   "outputs": [],
   "source": [
    "import matplotlib.pyplot as plt\n",
    "from matplotlib import cm\n",
    "from darts.models.physics.iapws.iapws_property_vec import _Backward1_T_Ph_vec\n",
    "\n",
    "# access to engine solution\n",
    "X = np.array(m.physics.engine.X, copy=False)\n",
    "pressure  = X[0::2][:m.reservoir.nb]\n",
    "enthalpy  = X[1::2][:m.reservoir.nb]\n",
    "temp = _Backward1_T_Ph_vec(pressure/10, enthalpy/18.015)  # in Kelvin"
   ]
  },
  {
   "cell_type": "code",
   "execution_count": null,
   "metadata": {},
   "outputs": [],
   "source": [
    "nx = m.reservoir.nx\n",
    "nz = m.reservoir.nz - m.n_up - m.n_bot\n",
    "nb = m.reservoir.nb\n",
    "\n",
    "plt.figure(figsize=(15,3))\n",
    "X, Y  = np.meshgrid(range(0, nx), range(0, nz+1))\n",
    "X = X\n",
    "Y = Y * 10\n",
    "# plot the results of payzone\n",
    "t_payzone = temp[m.up_bs : nb-m.bot_bs]\n",
    "surf = plt.pcolormesh(X, Y, t_payzone.reshape(nz, nx), cmap=cm.jet)\n",
    "plt.title('Temperature, K')\n",
    "plt.colorbar()\n",
    "\n",
    "plt.figure(figsize=(15,3))\n",
    "p_payzone = pressure[m.up_bs : nb-m.bot_bs]\n",
    "surf = plt.pcolormesh(X, Y, p_payzone.reshape(nz, nx), cmap=cm.jet)\n",
    "plt.title('Pressure, bar')\n",
    "plt.colorbar()"
   ]
  }
 ],
 "metadata": {
  "kernelspec": {
   "display_name": "Python 3",
   "language": "python",
   "name": "python3"
  },
  "language_info": {
   "codemirror_mode": {
    "name": "ipython",
    "version": 3
   },
   "file_extension": ".py",
   "mimetype": "text/x-python",
   "name": "python",
   "nbconvert_exporter": "python",
   "pygments_lexer": "ipython3",
   "version": "3.7.4"
  }
 },
 "nbformat": 4,
 "nbformat_minor": 2
}
